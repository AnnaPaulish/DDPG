{
 "cells": [
  {
   "cell_type": "code",
   "execution_count": 238,
   "metadata": {},
   "outputs": [
    {
     "name": "stdout",
     "output_type": "stream",
     "text": [
      "The autoreload extension is already loaded. To reload it, use:\n",
      "  %reload_ext autoreload\n"
     ]
    }
   ],
   "source": [
    "%load_ext autoreload\n",
    "%autoreload 2\n",
    "\n",
    "from helpers import NormalizedEnv\n",
    "from helpers import RandomAgent\n",
    "import gym as gym\n",
    "import numpy as np\n",
    "import matplotlib.pyplot as plt\n",
    "import torch\n",
    "import torch.optim as optim\n",
    "import torch.nn as nn\n",
    "\n",
    "from copy import deepcopy\n",
    "from tqdm import tqdm\n",
    "import importlib\n",
    "from helpers import NormalizedEnv\n",
    "\n",
    "from heuristicpolicy import HeuristicPendulumAgent\n",
    "from qnetwork import QNetwork\n",
    "from policynetwork import PolicyNetwork\n",
    "from gaussian_action_noise import GaussianActionNoise\n",
    "from ddpg_agent import DDPGAgent\n",
    "from replaybuffer import ReplayBuffer"
   ]
  },
  {
   "cell_type": "code",
   "execution_count": 197,
   "metadata": {},
   "outputs": [],
   "source": [
    "\n",
    "\n",
    "#Create random agent\n",
    "# random_agent = RandomAgent(pendulum)\n",
    "# heuristic_agent = HeuristicPendulumAgent(pendulum)"
   ]
  },
  {
   "cell_type": "code",
   "execution_count": 202,
   "metadata": {},
   "outputs": [
    {
     "name": "stdout",
     "output_type": "stream",
     "text": [
      "Job will run on cpu\n"
     ]
    }
   ],
   "source": [
    "#set GPU for faster training\n",
    "cuda = torch.cuda.is_available() #check for CUDA\n",
    "device   = torch.device(\"cuda\" if cuda else \"cpu\")\n",
    "print(\"Job will run on {}\".format(device))"
   ]
  },
  {
   "cell_type": "code",
   "execution_count": 207,
   "metadata": {},
   "outputs": [],
   "source": [
    "MAX_IT = 200\n",
    "BUFFER_SIZE = 1e4\n",
    "\n",
    "BATCH_SIZE = 128\n",
    "LEARNING_RATE = 1e-4\n",
    "NUM_EPISODES = 1000\n",
    "GAMMA = 0.99"
   ]
  },
  {
   "cell_type": "code",
   "execution_count": 239,
   "metadata": {},
   "outputs": [],
   "source": [
    "torch.manual_seed(-1)\n",
    "\n",
    "#Creating pendulum object\n",
    "pendulum = gym.make('Pendulum-v1', g=9.81)\n",
    "#Wrapping pendulum to map output space to [-1,1]\n",
    "pendulum = NormalizedEnv(pendulum)\n",
    "\n",
    "noise = GaussianActionNoise()\n",
    "\n",
    "network  = QNetwork().to(device) # critic\n",
    "policy_network = PolicyNetwork().to(device) # actor\n",
    "\n",
    "memory = ReplayBuffer(max_size=200)"
   ]
  },
  {
   "cell_type": "code",
   "execution_count": 242,
   "metadata": {},
   "outputs": [],
   "source": [
    "agent = DDPGAgent(policy_network, noise)"
   ]
  },
  {
   "cell_type": "code",
   "execution_count": 243,
   "metadata": {},
   "outputs": [],
   "source": [
    "#target_actor = HeuristicPendulumAgent(pendulum).to(device)\n",
    "\n",
    "policy_optimizer  = optim.Adam(policy_network.parameters(),  lr=LEARNING_RATE)\n",
    "\n",
    "MSE = nn.MSELoss()"
   ]
  },
  {
   "cell_type": "code",
   "execution_count": 236,
   "metadata": {},
   "outputs": [],
   "source": [
    "def test_policy(state_batch, action_batch, reward_batch, next_state_batch, trunc_batch, network):\n",
    "\n",
    "    targets = []\n",
    "    q_state = []\n",
    "\n",
    "    state = torch.FloatTensor(state_batch).to(device)\n",
    "    action = torch.FloatTensor(np.array([action_batch])).to(device)\n",
    "    reward = torch.FloatTensor(reward_batch).unsqueeze(1).to(device) #.unsqueeze(1)\n",
    "    trunc = torch.Tensor(np.array([np.float32(trunc_batch)])).unsqueeze(1).to(device)\n",
    "    next_state = torch.FloatTensor(next_state_batch).to(device)\n",
    "\n",
    "    network_input_state = torch.cat((state, action.T),1)\n",
    "\n",
    "    #compute loss for actor\n",
    "    \n",
    "    # N.B.: do not use the ”on-trajectory” actions, \n",
    "    # which were computed by a previous version of the policy network, \n",
    "    # you have to compute them with the current actor - DDPG is an off-policy algorithm\n",
    "    network_input_state = torch.cat((state, policy_network(state)), 1)\n",
    "    with torch.no_grad():\n",
    "        policy_loss = -network(network_input_state)\n",
    "        policy_loss = policy_loss.mean()\n",
    "    \n",
    "    \n",
    "    return policy_loss"
   ]
  },
  {
   "cell_type": "code",
   "execution_count": 244,
   "metadata": {},
   "outputs": [],
   "source": [
    "def learning_policy(state_batch, action_batch, reward_batch, next_state_batch, trunc_batch, network):\n",
    "\n",
    "    targets = []\n",
    "    q_state = []\n",
    "\n",
    "    state = torch.FloatTensor(state_batch).to(device)\n",
    "    action = torch.FloatTensor(np.array([action_batch])).to(device)\n",
    "    reward = torch.FloatTensor(reward_batch).unsqueeze(1).to(device) #.unsqueeze(1)\n",
    "    trunc = torch.Tensor(np.array([np.float32(trunc_batch)])).unsqueeze(1).to(device)\n",
    "    next_state = torch.FloatTensor(next_state_batch).to(device)\n",
    "\n",
    "    network_input_state = torch.cat((state, action.T),1)\n",
    "\n",
    "    #compute loss for actor\n",
    "    policy_optimizer.zero_grad()\n",
    "    # N.B.: do not use the ”on-trajectory” actions, \n",
    "    # which were computed by a previous version of the policy network, \n",
    "    # you have to compute them with the current actor - DDPG is an off-policy algorithm\n",
    "    network_input_state = torch.cat((state, policy_network(state)), 1)\n",
    "    policy_loss = -network(network_input_state)\n",
    "    policy_loss = policy_loss.mean()\n",
    "    policy_loss.backward()\n",
    "    policy_optimizer.step()\n",
    "    \n",
    "    return policy_loss"
   ]
  },
  {
   "cell_type": "code",
   "execution_count": 245,
   "metadata": {},
   "outputs": [],
   "source": [
    "plot_reward = []\n",
    "plot_policy = []\n",
    "plot_q = []\n",
    "plot_steps = []\n",
    "\n",
    "\n",
    "best_reward = -np.inf\n",
    "saved_reward = -np.inf\n",
    "saved_ep = 0\n",
    "average_reward = 0\n",
    "global_step = 0\n",
    "nr_of_samples = 128\n"
   ]
  },
  {
   "cell_type": "code",
   "execution_count": 248,
   "metadata": {},
   "outputs": [
    {
     "data": {
      "text/plain": [
       "array([-0.979431  ,  0.20177937, -0.55686694], dtype=float32)"
      ]
     },
     "execution_count": 248,
     "metadata": {},
     "output_type": "execute_result"
    }
   ],
   "source": [
    "current_state"
   ]
  },
  {
   "cell_type": "code",
   "execution_count": 255,
   "metadata": {},
   "outputs": [
    {
     "data": {
      "text/plain": [
       "0.1416268"
      ]
     },
     "execution_count": 255,
     "metadata": {},
     "output_type": "execute_result"
    }
   ],
   "source": [
    "action = agent.compute_action(state = current_state)\n",
    "action"
   ]
  },
  {
   "cell_type": "code",
   "execution_count": 256,
   "metadata": {},
   "outputs": [
    {
     "name": "stderr",
     "output_type": "stream",
     "text": [
      "  0%|          | 0/1000 [00:00<?, ?it/s]c:\\Users\\User\\anaconda3\\envs\\ann\\Lib\\site-packages\\gym\\utils\\passive_env_checker.py:233: DeprecationWarning: `np.bool8` is a deprecated alias for `np.bool_`.  (Deprecated NumPy 1.24)\n",
      "  if not isinstance(terminated, (bool, np.bool8)):\n",
      "  0%|          | 1/1000 [00:00<04:23,  3.79it/s]"
     ]
    },
    {
     "name": "stdout",
     "output_type": "stream",
     "text": [
      "0.2474520206451416\n"
     ]
    },
    {
     "name": "stderr",
     "output_type": "stream",
     "text": [
      " 10%|█         | 101/1000 [01:26<11:26,  1.31it/s]"
     ]
    },
    {
     "name": "stdout",
     "output_type": "stream",
     "text": [
      "0.18772736191749573\n"
     ]
    },
    {
     "name": "stderr",
     "output_type": "stream",
     "text": [
      " 20%|██        | 201/1000 [03:03<11:23,  1.17it/s]"
     ]
    },
    {
     "name": "stdout",
     "output_type": "stream",
     "text": [
      "0.22876699268817902\n"
     ]
    },
    {
     "name": "stderr",
     "output_type": "stream",
     "text": [
      " 30%|███       | 301/1000 [04:30<10:53,  1.07it/s]"
     ]
    },
    {
     "name": "stdout",
     "output_type": "stream",
     "text": [
      "0.20285865664482117\n"
     ]
    },
    {
     "name": "stderr",
     "output_type": "stream",
     "text": [
      " 40%|████      | 401/1000 [06:12<09:42,  1.03it/s]"
     ]
    },
    {
     "name": "stdout",
     "output_type": "stream",
     "text": [
      "0.16994477808475494\n"
     ]
    },
    {
     "name": "stderr",
     "output_type": "stream",
     "text": [
      " 50%|█████     | 501/1000 [08:10<09:12,  1.11s/it]"
     ]
    },
    {
     "name": "stdout",
     "output_type": "stream",
     "text": [
      "0.2174103558063507\n"
     ]
    },
    {
     "name": "stderr",
     "output_type": "stream",
     "text": [
      " 60%|██████    | 601/1000 [09:44<06:04,  1.09it/s]"
     ]
    },
    {
     "name": "stdout",
     "output_type": "stream",
     "text": [
      "0.20744092762470245\n"
     ]
    },
    {
     "name": "stderr",
     "output_type": "stream",
     "text": [
      " 70%|███████   | 701/1000 [11:12<05:12,  1.04s/it]"
     ]
    },
    {
     "name": "stdout",
     "output_type": "stream",
     "text": [
      "0.22254659235477448\n"
     ]
    },
    {
     "name": "stderr",
     "output_type": "stream",
     "text": [
      " 80%|████████  | 801/1000 [12:47<02:22,  1.40it/s]"
     ]
    },
    {
     "name": "stdout",
     "output_type": "stream",
     "text": [
      "0.21148689091205597\n"
     ]
    },
    {
     "name": "stderr",
     "output_type": "stream",
     "text": [
      " 90%|█████████ | 901/1000 [14:12<01:15,  1.30it/s]"
     ]
    },
    {
     "name": "stdout",
     "output_type": "stream",
     "text": [
      "0.15639705955982208\n"
     ]
    },
    {
     "name": "stderr",
     "output_type": "stream",
     "text": [
      "100%|██████████| 1000/1000 [15:31<00:00,  1.07it/s]\n"
     ]
    }
   ],
   "source": [
    "q_losses = []\n",
    "for episode in tqdm(range(NUM_EPISODES)):\n",
    "    current_state = deepcopy(pendulum.reset()[0])\n",
    "\n",
    "    ep_reward = 0.\n",
    "    ep_q_value = 0.\n",
    "    step = 0\n",
    "\n",
    "    # collect experience\n",
    "    for i in range(MAX_IT):\n",
    "        # how many iterations??\n",
    "        action = agent.compute_action(state = current_state)\n",
    "        #transformed_action = pendulum.action(action)\n",
    "        next_state, reward, term, trunc, info = pendulum.step(action)\n",
    "\n",
    "        memory.add_transition(state = current_state, action = action, reward = reward, next_state = next_state, trunc = trunc)\n",
    "\n",
    "        \n",
    "        # TODO: buffer_start = ??\n",
    "        if memory.count() > nr_of_samples:\n",
    "            # sample a batch of transitions from the replay buffer\n",
    "            # TODO: sample random from 0 to 200??\n",
    "            #indices = np.random.randint(0, 200, nr_of_samples)\n",
    "            state_batch, action_batch, reward_batch, next_state_batch, trunc_batch = memory.sample_transition(nr_of_samples)\n",
    "\n",
    "            # 1-step TD-learning rule\n",
    "            #TODO: the last update in each episode should use q = 0 !!\n",
    "            policy_loss = learning_policy(state_batch, action_batch, reward_batch, next_state_batch, trunc_batch, network)\n",
    "                       \n",
    "        \n",
    "        current_state = deepcopy(next_state)\n",
    "        ep_reward += reward\n",
    "    # plot_q.append([loss, episode])\n",
    "    try:\n",
    "        plot_reward.append([ep_reward, episode+1])\n",
    "        plot_policy.append([policy_loss.data, episode+1])\n",
    "        # plot_q.append([q_loss.data, episode+1])\n",
    "        # q_losses.append(q_loss.item())\n",
    "\n",
    "        if (episode % 100 == 0):\n",
    "            print(policy_loss.item())\n",
    "    except:\n",
    "        continue\n"
   ]
  },
  {
   "cell_type": "code",
   "execution_count": 188,
   "metadata": {},
   "outputs": [
    {
     "name": "stderr",
     "output_type": "stream",
     "text": [
      " 32%|███▏      | 317/1000 [01:39<02:45,  4.14it/s]"
     ]
    }
   ],
   "source": [
    "# losses = []\n",
    "# for episode in tqdm(range(NUM_EPISODES)):\n",
    "#     current_state = deepcopy(pendulum.reset()[0])\n",
    "\n",
    "#     ep_reward = 0.\n",
    "#     ep_q_value = 0.\n",
    "#     step=0\n",
    "\n",
    "#     i = 0\n",
    "#     # collect experience\n",
    "#     for i in range(MAX_IT):\n",
    "#         # how many iterations??\n",
    "#         action = heuristic_agent.compute_action(state = current_state)\n",
    "#         transformed_action = pendulum.action(action)\n",
    "#         next_state, reward, term, trunc, info = pendulum.step(transformed_action)\n",
    "\n",
    "#         memory.add_transition(state = current_state, action = action, reward = reward, next_state = next_state, trunc = trunc)\n",
    "\n",
    "        \n",
    "#         # TODO: buffer_start = ??\n",
    "#         if memory.count() > nr_of_samples:\n",
    "#             # sample a batch of transitions from the replay buffer\n",
    "#             # TODO: sample random from 0 to 200??\n",
    "#             #indices = np.random.randint(0, 200, nr_of_samples)\n",
    "#             state_batch, action_batch, reward_batch, next_state_batch, trunc_batch = memory.sample_transition(nr_of_samples)\n",
    "\n",
    "#             # 1-step TD-learning rule\n",
    "#             #TODO: the last update in each episode should use q = 0 !!\n",
    "#             q_loss = learning_policy(state_batch, action_batch, reward_batch, next_state_batch, trunc_batch, heuristic_agent, GAMMA, network, i)\n",
    "                       \n",
    "        \n",
    "#         current_state = deepcopy(next_state)\n",
    "#         ep_reward += reward\n",
    "#     # plot_q.append([loss, episode])\n",
    "#     try:\n",
    "#         plot_q.append([q_loss.data, episode+1])\n",
    "#         #q_losses.append(q_loss.item())\n",
    "\n",
    "#         if (episode % 100 == 0):\n",
    "#             print(q_loss.item())\n",
    "#     except:\n",
    "#         continue\n",
    "\n",
    "    "
   ]
  },
  {
   "cell_type": "code",
   "execution_count": 166,
   "metadata": {},
   "outputs": [
    {
     "data": {
      "text/plain": [
       "2344.7842063289863"
      ]
     },
     "execution_count": 166,
     "metadata": {},
     "output_type": "execute_result"
    }
   ],
   "source": [
    "plt.print(losses)"
   ]
  },
  {
   "cell_type": "code",
   "execution_count": null,
   "metadata": {},
   "outputs": [],
   "source": [
    "from matplotlib import pyplot as plt\n",
    "from IPython.display import clear_output\n",
    "%matplotlib inline\n",
    "\n",
    "def subplot(R, P, Q, S):\n",
    "    r = list(zip(*R))\n",
    "    p = list(zip(*P))\n",
    "    q = list(zip(*Q))\n",
    "    s = list(zip(*S))\n",
    "    clear_output(wait=True)\n",
    "    \n",
    "    fig, ax = plt.subplots(nrows=2, ncols=2, figsize=(15,15))\n",
    "\n",
    "    ax[0, 0].plot(list(r[1]), list(r[0]), 'r') #row=0, col=0\n",
    "    ax[1, 0].plot(list(p[1]), list(p[0]), 'b') #row=1, col=0\n",
    "    ax[0, 1].plot(list(q[1]), list(q[0]), 'g') #row=0, col=1\n",
    "    ax[1, 1].plot(list(s[1]), list(s[0]), 'k') #row=1, col=1\n",
    "    ax[0, 0].title.set_text('Reward')\n",
    "    ax[1, 0].title.set_text('Policy loss')\n",
    "    ax[0, 1].title.set_text('Q loss')\n",
    "    ax[1, 1].title.set_text('Max steps')\n",
    "    plt.show()"
   ]
  },
  {
   "cell_type": "code",
   "execution_count": 257,
   "metadata": {},
   "outputs": [
    {
     "data": {
      "text/plain": [
       "Text(0.5, 1.0, 'Policy loss')"
      ]
     },
     "execution_count": 257,
     "metadata": {},
     "output_type": "execute_result"
    },
    {
     "data": {
      "image/png": "[encoded data removed]",
      "text/plain": [
       "<Figure size 640x480 with 1 Axes>"
      ]
     },
     "metadata": {},
     "output_type": "display_data"
    }
   ],
   "source": [
    "q = list(zip(*plot_policy))\n",
    "plt.plot(list(q[1]), list(q[0]), 'g') #row=0, col=1\n",
    "plt.title('Policy loss')"
   ]
  },
  {
   "cell_type": "code",
   "execution_count": null,
   "metadata": {},
   "outputs": [],
   "source": [
    "cumulative_reward = 0\n",
    "for episode in tqdm(range(100)):\n",
    "    current_state = deepcopy(pendulum.reset()[0])\n",
    "\n",
    "    ep_reward = 0.\n",
    "    ep_q_value = 0.\n",
    "    step = 0\n",
    "\n",
    "    # collect experience\n",
    "    for i in range(MAX_IT):\n",
    "        # how many iterations??\n",
    "        action = agent.compute_action(state = current_state)\n",
    "        # transformed_action = pendulum.action(action)\n",
    "        next_state, reward, term, trunc, info = pendulum.step(action)\n",
    "\n",
    "        memory.add_transition(state = current_state, action = action, reward = reward, next_state = next_state, trunc = trunc)\n",
    "\n",
    "        \n",
    "        # TODO: buffer_start = ??\n",
    "        if memory.count() > nr_of_samples:\n",
    "            # sample a batch of transitions from the replay buffer\n",
    "            # TODO: sample random from 0 to 200??\n",
    "            #indices = np.random.randint(0, 200, nr_of_samples)\n",
    "            state_batch, action_batch, reward_batch, next_state_batch, trunc_batch = memory.sample_transition(nr_of_samples)\n",
    "\n",
    "            # 1-step TD-learning rule\n",
    "            #TODO: the last update in each episode should use q = 0 !!\n",
    "            policy_loss = test_policy(state_batch, action_batch, reward_batch, next_state_batch, trunc_batch, network)\n",
    "                       \n",
    "        \n",
    "        current_state = deepcopy(next_state)\n",
    "        cumulative_reward += reward\n",
    "    # plot_q.append([loss, episode])\n",
    "    try:\n",
    "        # plot_reward.append([ep_reward, episode+1])\n",
    "        # plot_policy.append([policy_loss.data, episode+1])\n",
    "        # plot_q.append([q_loss.data, episode+1])\n",
    "        # q_losses.append(q_loss.item())\n",
    "\n",
    "        if (episode % 10 == 0):\n",
    "            print(policy_loss.item())\n",
    "    except:\n",
    "        continue\n"
   ]
  },
  {
   "cell_type": "code",
   "execution_count": null,
   "metadata": {},
   "outputs": [],
   "source": [
    "average_reward = cumulative_reward / 100"
   ]
  },
  {
   "cell_type": "code",
   "execution_count": 187,
   "metadata": {},
   "outputs": [],
   "source": [
    "def run_test_episodes(env, policy, num_episodes):\n",
    "    cumulative_reward = 0\n",
    "\n",
    "    for episode in tqdm(range(num_episodes)):\n",
    "        state = env.reset()\n",
    "        done = False\n",
    "\n",
    "        # TODO: how many iterations??\n",
    "        while not done:\n",
    "            action = policy.select_action(state)\n",
    "            next_state, reward, done, _ = env.step(action)\n",
    "            cumulative_reward += reward\n",
    "            state = next_state\n",
    "\n",
    "    average_reward = cumulative_reward / num_episodes\n",
    "    return average_reward"
   ]
  },
  {
   "cell_type": "code",
   "execution_count": 152,
   "metadata": {},
   "outputs": [],
   "source": []
  },
  {
   "cell_type": "code",
   "execution_count": 38,
   "metadata": {},
   "outputs": [
    {
     "data": {
      "text/plain": [
       "[(array([0.97788984, 0.20912069, 0.18009238], dtype=float32),\n",
       "  -1.0,\n",
       "  -0.051627571543737774,\n",
       "  array([0.9775334 , 0.2107805 , 0.03395293], dtype=float32),\n",
       "  False),\n",
       " (array([ 0.95440036,  0.2985296 , -2.3184805 ], dtype=float32),\n",
       "  1.0,\n",
       "  -0.6334360689743704,\n",
       "  array([ 0.9773568 ,  0.21159807, -1.7988373 ], dtype=float32),\n",
       "  False)]"
      ]
     },
     "execution_count": 38,
     "metadata": {},
     "output_type": "execute_result"
    }
   ],
   "source": []
  },
  {
   "cell_type": "code",
   "execution_count": null,
   "metadata": {},
   "outputs": [],
   "source": []
  }
 ],
 "metadata": {
  "kernelspec": {
   "display_name": "ann",
   "language": "python",
   "name": "python3"
  },
  "language_info": {
   "codemirror_mode": {
    "name": "ipython",
    "version": 3
   },
   "file_extension": ".py",
   "mimetype": "text/x-python",
   "name": "python",
   "nbconvert_exporter": "python",
   "pygments_lexer": "ipython3",
   "version": "3.11.3"
  },
  "orig_nbformat": 4
 },
 "nbformat": 4,
 "nbformat_minor": 2
}
