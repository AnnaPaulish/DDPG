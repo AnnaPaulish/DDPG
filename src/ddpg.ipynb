{
 "cells": [
  {
   "cell_type": "code",
   "execution_count": 201,
   "metadata": {},
   "outputs": [
    {
     "name": "stdout",
     "output_type": "stream",
     "text": [
      "The autoreload extension is already loaded. To reload it, use:\n",
      "  %reload_ext autoreload\n"
     ]
    }
   ],
   "source": [
    "%load_ext autoreload\n",
    "%autoreload 2\n",
    "\n",
    "from helpers import NormalizedEnv\n",
    "from helpers import RandomAgent\n",
    "import gym as gym\n",
    "import numpy as np\n",
    "import matplotlib.pyplot as plt\n",
    "import torch\n",
    "import torch.optim as optim\n",
    "import torch.nn as nn\n",
    "\n",
    "from copy import deepcopy\n",
    "from tqdm import tqdm\n",
    "import importlib\n",
    "from helpers import NormalizedEnv\n",
    "\n",
    "from heuristicpolicy import HeuristicPendulumAgent\n",
    "from qnetwork import QNetwork\n",
    "from policynetwork import PolicyNetwork\n",
    "from gaussian_action_noise import GaussianActionNoise\n",
    "from replaybuffer import ReplayBuffer"
   ]
  },
  {
   "cell_type": "code",
   "execution_count": 197,
   "metadata": {},
   "outputs": [],
   "source": [
    "\n",
    "\n",
    "#Create random agent\n",
    "random_agent = RandomAgent(pendulum)\n",
    "heuristic_agent = HeuristicPendulumAgent(pendulum)"
   ]
  },
  {
   "cell_type": "code",
   "execution_count": 202,
   "metadata": {},
   "outputs": [
    {
     "name": "stdout",
     "output_type": "stream",
     "text": [
      "Job will run on cpu\n"
     ]
    }
   ],
   "source": [
    "#set GPU for faster training\n",
    "cuda = torch.cuda.is_available() #check for CUDA\n",
    "device   = torch.device(\"cuda\" if cuda else \"cpu\")\n",
    "print(\"Job will run on {}\".format(device))"
   ]
  },
  {
   "cell_type": "code",
   "execution_count": 207,
   "metadata": {},
   "outputs": [],
   "source": [
    "MAX_IT = 200\n",
    "BUFFER_SIZE = 1e4\n",
    "\n",
    "BATCH_SIZE = 128\n",
    "LEARNING_RATE = 1e-4\n",
    "NUM_EPISODES = 1000\n",
    "GAMMA = 0.99"
   ]
  },
  {
   "cell_type": "code",
   "execution_count": 208,
   "metadata": {},
   "outputs": [],
   "source": [
    "torch.manual_seed(-1)\n",
    "\n",
    "#Creating pendulum object\n",
    "pendulum = gym.make('Pendulum-v1', g=9.81)\n",
    "#Wrapping pendulum to map output space to [-1,1]\n",
    "pendulum = NormalizedEnv(pendulum)\n",
    "\n",
    "noise = GaussianActionNoise()\n",
    "\n",
    "network  = QNetwork().to(device) # critic\n",
    "policy_network = PolicyNetwork().to(device) # actor\n",
    "\n",
    "memory = ReplayBuffer(max_size=200)"
   ]
  },
  {
   "cell_type": "code",
   "execution_count": 209,
   "metadata": {},
   "outputs": [],
   "source": [
    "#target_actor = HeuristicPendulumAgent(pendulum).to(device)\n",
    "\n",
    "policy_optimizer  = optim.Adam(policy_network.parameters(),  lr=LEARNING_RATE)\n",
    "\n",
    "MSE = nn.MSELoss()"
   ]
  },
  {
   "cell_type": "code",
   "execution_count": 212,
   "metadata": {},
   "outputs": [
    {
     "data": {
      "text/plain": [
       "tensor([0.8433, 0.5375, 0.6844])"
      ]
     },
     "execution_count": 212,
     "metadata": {},
     "output_type": "execute_result"
    }
   ],
   "source": [
    "state"
   ]
  },
  {
   "cell_type": "code",
   "execution_count": 211,
   "metadata": {},
   "outputs": [
    {
     "data": {
      "text/plain": [
       "tensor([0.1081], grad_fn=<TanhBackward0>)"
      ]
     },
     "execution_count": 211,
     "metadata": {},
     "output_type": "execute_result"
    }
   ],
   "source": [
    "policy_network(state)"
   ]
  },
  {
   "cell_type": "code",
   "execution_count": 213,
   "metadata": {},
   "outputs": [
    {
     "data": {
      "text/plain": [
       "tensor([0.8433, 0.5375, 0.6844, 0.1081], grad_fn=<CatBackward0>)"
      ]
     },
     "execution_count": 213,
     "metadata": {},
     "output_type": "execute_result"
    }
   ],
   "source": [
    "network_input_state = torch.cat((state, policy_network(state)))\n",
    "network_input_state"
   ]
  },
  {
   "cell_type": "code",
   "execution_count": 214,
   "metadata": {},
   "outputs": [
    {
     "data": {
      "text/plain": [
       "0.26541709899902344"
      ]
     },
     "execution_count": 214,
     "metadata": {},
     "output_type": "execute_result"
    }
   ],
   "source": [
    "targets = []\n",
    "q_state = []\n",
    "policy_loss = 0\n",
    "for i in range(BATCH_SIZE):\n",
    "\n",
    "    state, action, reward, next_state, trunc = batch_transitions[i]\n",
    "\n",
    "    state = torch.FloatTensor(state).to(device)\n",
    "    action = torch.FloatTensor([action]).to(device)\n",
    "    reward = torch.FloatTensor([reward]).to(device) #.unsqueeze(1)\n",
    "    trunc = torch.Tensor([np.float32(trunc)]).unsqueeze(1).to(device)\n",
    "    next_state = torch.FloatTensor(next_state).to(device)\n",
    "\n",
    "    #compute loss for actor\n",
    "    policy_optimizer.zero_grad()\n",
    "    # N.B.: do not use the ”on-trajectory” actions, \n",
    "    # which were computed by a previous version of the policy network, \n",
    "    # you have to compute them with the current actor - DDPG is an off-policy algorithm\n",
    "    network_input_state = torch.cat((state, policy_network(state)))\n",
    "    policy_loss += -network(network_input_state)\n",
    "    \n",
    "    \n",
    "\n",
    "policy_loss = policy_loss/BATCH_SIZE\n",
    "policy_loss.backward()\n",
    "policy_optimizer.step()\n",
    "policy_loss.item()\n",
    "    "
   ]
  },
  {
   "cell_type": "code",
   "execution_count": 178,
   "metadata": {},
   "outputs": [],
   "source": [
    "def learning_policy(batch_transitions, agent, gamma, network):\n",
    "\n",
    "    targets = []\n",
    "    q_state = []\n",
    "    policy_loss = 0\n",
    "    for i in range(BATCH_SIZE):\n",
    "\n",
    "        state, action, reward, next_state, trunc = batch_transitions[i]\n",
    "\n",
    "        state = torch.FloatTensor(state).to(device)\n",
    "        action = torch.FloatTensor([action]).to(device)\n",
    "        reward = torch.FloatTensor([reward]).to(device) #.unsqueeze(1)\n",
    "        trunc = torch.Tensor([np.float32(trunc)]).unsqueeze(1).to(device)\n",
    "        next_state = torch.FloatTensor(next_state).to(device)\n",
    "\n",
    "        #compute loss for actor\n",
    "        policy_optimizer.zero_grad()\n",
    "        # N.B.: do not use the ”on-trajectory” actions, \n",
    "        # which were computed by a previous version of the policy network, \n",
    "        # you have to compute them with the current actor - DDPG is an off-policy algorithm\n",
    "        network_input_state = torch.cat((state, policy_network(state)))\n",
    "        policy_loss += -network(network_input_state)\n",
    "        \n",
    "        \n",
    "\n",
    "    policy_loss = policy_loss/BATCH_SIZE\n",
    "    policy_loss.backward()\n",
    "    policy_optimizer.step()\n",
    "    \n",
    "    return policy_loss.item()"
   ]
  },
  {
   "cell_type": "code",
   "execution_count": 163,
   "metadata": {},
   "outputs": [],
   "source": [
    "\n",
    "i = 0\n",
    "# collect experience\n",
    "current_state = deepcopy(pendulum.reset()[0])\n",
    "while i < MAX_IT:\n",
    "    # how many iterations??\n",
    "    action = heuristic_agent.compute_action(state = current_state)\n",
    "    transformed_action = pendulum.action(action)\n",
    "    next_state, reward, term, trunc, info = pendulum.step(transformed_action)\n",
    "\n",
    "    memory.add_transition(state = current_state, action = action, reward = reward, next_state = next_state, trunc = trunc)\n",
    "    i += 1"
   ]
  },
  {
   "cell_type": "code",
   "execution_count": 179,
   "metadata": {},
   "outputs": [],
   "source": [
    "plot_reward = []\n",
    "plot_policy = []\n",
    "plot_q = []\n",
    "plot_steps = []\n",
    "\n",
    "\n",
    "best_reward = -np.inf\n",
    "saved_reward = -np.inf\n",
    "saved_ep = 0\n",
    "average_reward = 0\n",
    "global_step = 0\n",
    "nr_of_samples = 128\n"
   ]
  },
  {
   "cell_type": "code",
   "execution_count": 188,
   "metadata": {},
   "outputs": [
    {
     "name": "stderr",
     "output_type": "stream",
     "text": [
      " 32%|███▏      | 317/1000 [01:39<02:45,  4.14it/s]"
     ]
    }
   ],
   "source": [
    "losses = []\n",
    "for episode in tqdm(range(NUM_EPISODES)):\n",
    "    current_state = deepcopy(pendulum.reset()[0])\n",
    "\n",
    "    ep_reward = 0.\n",
    "    ep_q_value = 0.\n",
    "    step=0\n",
    "\n",
    "    i = 0\n",
    "    # collect experience\n",
    "    while i < MAX_IT:\n",
    "        # how many iterations??\n",
    "        action = heuristic_agent.compute_action(state = current_state)\n",
    "        transformed_action = pendulum.action(action)\n",
    "        next_state, reward, term, trunc, info = pendulum.step(transformed_action)\n",
    "\n",
    "        memory.add_transition(state = current_state, action = action, reward = reward, next_state = next_state, trunc = trunc)\n",
    "\n",
    "        current_state = deepcopy(next_state)\n",
    "        ep_reward += reward\n",
    "        i += 1\n",
    "\n",
    "    # sample a batch of transitions from the replay buffer\n",
    "    indices = np.random.randint(0, 200, nr_of_samples)\n",
    "    batch_transitions = memory.sample_transition(indices)\n",
    "\n",
    "    # 1-step TD-learning rule\n",
    "    loss = onestepTD(batch_transitions, heuristic_agent, GAMMA, network)\n",
    "    losses.append(loss/nr_of_samples)\n",
    "    # plot_q.append([loss, episode])\n",
    "\n",
    "    "
   ]
  },
  {
   "cell_type": "code",
   "execution_count": 166,
   "metadata": {},
   "outputs": [
    {
     "data": {
      "text/plain": [
       "2344.7842063289863"
      ]
     },
     "execution_count": 166,
     "metadata": {},
     "output_type": "execute_result"
    }
   ],
   "source": [
    "plt.print(losses)"
   ]
  },
  {
   "cell_type": "code",
   "execution_count": null,
   "metadata": {},
   "outputs": [],
   "source": [
    "from matplotlib import pyplot as plt\n",
    "from IPython.display import clear_output\n",
    "%matplotlib inline\n",
    "\n",
    "def subplot(R, P, Q, S):\n",
    "    r = list(zip(*R))\n",
    "    p = list(zip(*P))\n",
    "    q = list(zip(*Q))\n",
    "    s = list(zip(*S))\n",
    "    clear_output(wait=True)\n",
    "    \n",
    "    fig, ax = plt.subplots(nrows=2, ncols=2, figsize=(15,15))\n",
    "\n",
    "    ax[0, 0].plot(list(r[1]), list(r[0]), 'r') #row=0, col=0\n",
    "    ax[1, 0].plot(list(p[1]), list(p[0]), 'b') #row=1, col=0\n",
    "    ax[0, 1].plot(list(q[1]), list(q[0]), 'g') #row=0, col=1\n",
    "    ax[1, 1].plot(list(s[1]), list(s[0]), 'k') #row=1, col=1\n",
    "    ax[0, 0].title.set_text('Reward')\n",
    "    ax[1, 0].title.set_text('Policy loss')\n",
    "    ax[0, 1].title.set_text('Q loss')\n",
    "    ax[1, 1].title.set_text('Max steps')\n",
    "    plt.show()"
   ]
  },
  {
   "cell_type": "code",
   "execution_count": 186,
   "metadata": {},
   "outputs": [
    {
     "data": {
      "text/plain": [
       "Text(0.5, 1.0, 'Q loss')"
      ]
     },
     "execution_count": 186,
     "metadata": {},
     "output_type": "execute_result"
    },
    {
     "data": {
      "image/png": "[encoded data removed]",
      "text/plain": [
       "<Figure size 640x480 with 1 Axes>"
      ]
     },
     "metadata": {},
     "output_type": "display_data"
    }
   ],
   "source": [
    "q = list(zip(*plot_q))\n",
    "plt.plot(list(q[1]), list(q[0]), 'g') #row=0, col=1\n",
    "plt.title('Q loss')"
   ]
  },
  {
   "cell_type": "code",
   "execution_count": 187,
   "metadata": {},
   "outputs": [],
   "source": [
    "i = 0\n",
    "while i < MAX_IT:\n",
    "    action = heuristic_agent.compute_action(state = current_state)\n",
    "    transformed_action = pendulum.action(action)\n",
    "    next_state, reward, term, trunc, info = pendulum.step(transformed_action)\n",
    "\n",
    "    memory.add_transition(state = current_state, action = action, reward = reward, next_state = next_state, trunc = trunc)\n",
    "\n",
    "    current_state = deepcopy(next_state)\n",
    "    ep_reward += reward\n",
    "    i += 1"
   ]
  },
  {
   "cell_type": "code",
   "execution_count": 152,
   "metadata": {},
   "outputs": [],
   "source": []
  },
  {
   "cell_type": "code",
   "execution_count": 38,
   "metadata": {},
   "outputs": [
    {
     "data": {
      "text/plain": [
       "[(array([0.97788984, 0.20912069, 0.18009238], dtype=float32),\n",
       "  -1.0,\n",
       "  -0.051627571543737774,\n",
       "  array([0.9775334 , 0.2107805 , 0.03395293], dtype=float32),\n",
       "  False),\n",
       " (array([ 0.95440036,  0.2985296 , -2.3184805 ], dtype=float32),\n",
       "  1.0,\n",
       "  -0.6334360689743704,\n",
       "  array([ 0.9773568 ,  0.21159807, -1.7988373 ], dtype=float32),\n",
       "  False)]"
      ]
     },
     "execution_count": 38,
     "metadata": {},
     "output_type": "execute_result"
    }
   ],
   "source": []
  },
  {
   "cell_type": "code",
   "execution_count": null,
   "metadata": {},
   "outputs": [],
   "source": []
  }
 ],
 "metadata": {
  "kernelspec": {
   "display_name": "ann",
   "language": "python",
   "name": "python3"
  },
  "language_info": {
   "codemirror_mode": {
    "name": "ipython",
    "version": 3
   },
   "file_extension": ".py",
   "mimetype": "text/x-python",
   "name": "python",
   "nbconvert_exporter": "python",
   "pygments_lexer": "ipython3",
   "version": "3.11.3"
  },
  "orig_nbformat": 4
 },
 "nbformat": 4,
 "nbformat_minor": 2
}
