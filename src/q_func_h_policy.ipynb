{
 "cells": [
  {
   "cell_type": "code",
   "execution_count": 3,
   "metadata": {},
   "outputs": [],
   "source": [
    "%load_ext autoreload\n",
    "%autoreload 2\n",
    "\n",
    "from helpers import NormalizedEnv\n",
    "from helpers import RandomAgent\n",
    "import gym as gym\n",
    "import numpy as np\n",
    "import matplotlib.pyplot as plt\n",
    "import torch\n",
    "import torch.optim as optim\n",
    "import torch.nn as nn\n",
    "\n",
    "from copy import deepcopy\n",
    "from tqdm import tqdm\n",
    "import importlib\n",
    "from helpers import NormalizedEnv\n",
    "\n",
    "from heuristicpolicy import HeuristicPendulumAgent\n",
    "from qnetwork import QNetwork\n",
    "from replaybuffer import ReplayBuffer"
   ]
  },
  {
   "cell_type": "code",
   "execution_count": 4,
   "metadata": {},
   "outputs": [],
   "source": [
    "#Creating pendulum object\n",
    "pendulum = gym.make('Pendulum-v1', g=9.81)\n",
    "#Wrapping pendulum to map output space to [-1,1]\n",
    "pendulum = NormalizedEnv(pendulum)\n",
    "\n",
    "#Create random agent\n",
    "Random_Agent = RandomAgent(pendulum)"
   ]
  },
  {
   "cell_type": "code",
   "execution_count": 5,
   "metadata": {},
   "outputs": [],
   "source": [
    "heuristic_agent = HeuristicPendulumAgent(pendulum)"
   ]
  },
  {
   "cell_type": "code",
   "execution_count": 6,
   "metadata": {},
   "outputs": [
    {
     "name": "stdout",
     "output_type": "stream",
     "text": [
      "Job will run on cpu\n"
     ]
    }
   ],
   "source": [
    "#set GPU for faster training\n",
    "cuda = torch.cuda.is_available() #check for CUDA\n",
    "device   = torch.device(\"cuda\" if cuda else \"cpu\")\n",
    "print(\"Job will run on {}\".format(device))"
   ]
  },
  {
   "cell_type": "code",
   "execution_count": 7,
   "metadata": {},
   "outputs": [],
   "source": [
    "MAX_IT = 200\n",
    "BUFFER_SIZE = 1e4\n",
    "\n",
    "BATCH_SIZE = 128\n",
    "LEARNING_RATE = 1e-4\n",
    "NUM_EPISODES = 1000\n",
    "GAMMA = 0.99"
   ]
  },
  {
   "cell_type": "code",
   "execution_count": 16,
   "metadata": {},
   "outputs": [],
   "source": [
    "torch.manual_seed(-1)\n",
    "\n",
    "network  = QNetwork().to(device) # critic\n",
    "memory = ReplayBuffer(max_size=BUFFER_SIZE)"
   ]
  },
  {
   "cell_type": "code",
   "execution_count": 17,
   "metadata": {},
   "outputs": [],
   "source": [
    "#target_actor = HeuristicPendulumAgent(pendulum).to(device)\n",
    "\n",
    "q_optimizer  = optim.Adam(network.parameters(),  lr=LEARNING_RATE)\n",
    "\n",
    "MSE = nn.MSELoss()"
   ]
  },
  {
   "cell_type": "code",
   "execution_count": 18,
   "metadata": {},
   "outputs": [],
   "source": [
    "agent = heuristic_agent"
   ]
  },
  {
   "cell_type": "code",
   "execution_count": 70,
   "metadata": {},
   "outputs": [],
   "source": [
    "current_state = deepcopy(pendulum.reset()[0])\n",
    "\n",
    "ep_reward = 0.\n",
    "ep_q_value = 0.\n",
    "step = 0\n",
    "\n",
    "# collect experience\n",
    "for i in range(MAX_IT):\n",
    "    # how many iterations??\n",
    "    action = heuristic_agent.compute_action(state = current_state)\n",
    "    transformed_action = pendulum.action(action)\n",
    "    next_state, reward, term, trunc, info = pendulum.step(transformed_action)\n",
    "\n",
    "    memory.add_transition(state = current_state, action = action, reward = reward, next_state = next_state, trunc = trunc)\n",
    "\n",
    "    \n",
    "    # TODO: buffer_start = ??\n",
    "    if memory.count() > 128:\n",
    "        # sample a batch of transitions from the replay buffer\n",
    "        # TODO: sample random from 0 to 200??\n",
    "        #indices = np.random.randint(0, 200, nr_of_samples)\n",
    "        state_batch, action_batch, reward_batch, next_state_batch, trunc = memory.sample_transition(128)"
   ]
  },
  {
   "cell_type": "code",
   "execution_count": 128,
   "metadata": {},
   "outputs": [],
   "source": [
    "targets = []\n",
    "q_state = []\n",
    "loss = 0\n",
    "\n",
    "state = torch.FloatTensor(state_batch).to(device)\n",
    "action = torch.FloatTensor([action_batch]).to(device)\n",
    "reward = torch.FloatTensor(reward_batch).unsqueeze(1).to(device) #.unsqueeze(1)\n",
    "trunc = torch.Tensor([np.float32(trunc)]).unsqueeze(1).to(device)\n",
    "next_state = torch.FloatTensor(next_state_batch).to(device)"
   ]
  },
  {
   "cell_type": "code",
   "execution_count": 96,
   "metadata": {},
   "outputs": [],
   "source": [
    "st = state.T"
   ]
  },
  {
   "cell_type": "code",
   "execution_count": 91,
   "metadata": {},
   "outputs": [],
   "source": [
    "action_next_state = agent.compute_action(state = next_state.T) # np"
   ]
  },
  {
   "cell_type": "code",
   "execution_count": 105,
   "metadata": {},
   "outputs": [
    {
     "data": {
      "text/plain": [
       "tensor([[-7.7090e-01, -6.3696e-01,  2.1890e-01],\n",
       "        [ 6.8965e-01,  7.2415e-01,  1.3795e+00],\n",
       "        [ 9.8471e-01, -1.7418e-01, -3.0138e-01],\n",
       "        [ 9.4377e-01, -3.3060e-01, -3.4552e-01],\n",
       "        [ 8.6734e-01, -4.9772e-01, -5.1255e-01],\n",
       "        [ 9.8891e-01,  1.4853e-01, -1.3380e+00],\n",
       "        [ 9.9703e-01, -7.7075e-02,  8.8208e-01],\n",
       "        [ 9.7866e-01, -2.0549e-01,  9.2024e-01],\n",
       "        [-8.0233e-01,  5.9688e-01,  6.5771e+00],\n",
       "        [ 9.7605e-01, -2.1752e-01, -4.9807e-02],\n",
       "        [-1.1251e-01,  9.9365e-01,  3.6988e+00],\n",
       "        [ 9.9918e-01,  4.0503e-02, -1.8291e-01],\n",
       "        [-9.7453e-01, -2.2425e-01,  7.7753e+00],\n",
       "        [ 9.3330e-01,  3.5909e-01,  2.4884e-01],\n",
       "        [ 4.4500e-01,  8.9553e-01, -5.9601e+00],\n",
       "        [ 7.5749e-01, -6.5285e-01,  2.0845e+00],\n",
       "        [ 9.9384e-01, -1.1078e-01, -1.2842e-02],\n",
       "        [ 2.7742e-01,  9.6075e-01,  2.7043e+00],\n",
       "        [ 6.4275e-01,  7.6608e-01, -4.2168e+00],\n",
       "        [-9.8681e-01,  1.6188e-01,  7.3562e+00],\n",
       "        [ 7.1555e-01,  6.9856e-01,  1.2423e+00],\n",
       "        [-3.1612e-01, -9.4872e-01,  7.7107e+00],\n",
       "        [ 9.9296e-01,  1.1847e-01,  1.9533e-02],\n",
       "        [ 9.9874e-01,  5.0212e-02,  2.5227e-01],\n",
       "        [ 5.2731e-01,  8.4968e-01, -3.5988e-01],\n",
       "        [ 9.5544e-01, -2.9518e-01, -1.4769e-01],\n",
       "        [ 1.0000e+00, -1.2560e-03,  7.4638e-01],\n",
       "        [ 9.3980e-01,  3.4172e-01, -2.8189e+00],\n",
       "        [ 9.5551e-01,  2.9496e-01,  3.2140e-01],\n",
       "        [ 1.1111e-01,  9.9381e-01,  4.8849e-01],\n",
       "        [ 9.9676e-01, -8.0464e-02,  1.5512e-01],\n",
       "        [ 9.9742e-01,  7.1817e-02,  2.3508e-02],\n",
       "        [ 9.9862e-01,  5.2509e-02, -3.1498e-02],\n",
       "        [ 9.9931e-01, -3.7064e-02, -3.0368e-01],\n",
       "        [ 7.5962e-01, -6.5037e-01, -1.0890e+00],\n",
       "        [ 8.7476e-01, -4.8456e-01, -6.3899e-02],\n",
       "        [ 9.9147e-02, -9.9507e-01,  7.2289e+00],\n",
       "        [ 9.1295e-01,  4.0807e-01,  3.0048e-01],\n",
       "        [-9.7910e-01,  2.0337e-01, -7.5858e+00],\n",
       "        [ 9.2529e-01,  3.7926e-01, -2.8231e+00],\n",
       "        [-9.9996e-01, -8.9825e-03,  7.0681e+00],\n",
       "        [ 9.6832e-01, -2.4971e-01,  1.0395e-01],\n",
       "        [ 8.7881e-01,  4.7717e-01,  4.8744e-01],\n",
       "        [-9.8722e-01,  1.5938e-01,  7.6984e+00],\n",
       "        [ 9.9754e-01,  7.0031e-02,  8.3280e-01],\n",
       "        [ 9.9974e-01,  2.2767e-02, -1.6850e-01],\n",
       "        [ 9.9856e-01, -5.3610e-02,  6.3400e-02],\n",
       "        [ 9.9998e-01,  6.3363e-03,  1.2551e-01],\n",
       "        [ 9.9873e-01,  5.0429e-02,  2.2878e-02],\n",
       "        [ 8.6863e-01, -4.9547e-01, -4.2660e-01],\n",
       "        [ 8.7579e-01, -4.8270e-01, -4.5924e-01],\n",
       "        [ 9.9513e-01,  9.8529e-02,  2.3223e-01],\n",
       "        [ 5.4173e-01, -8.4055e-01,  1.8673e-01],\n",
       "        [ 9.9481e-01, -1.0179e-01,  1.2062e-01],\n",
       "        [ 9.7698e-01,  2.1331e-01,  6.3475e-03],\n",
       "        [ 9.9047e-01, -1.3770e-01, -3.2455e-01],\n",
       "        [-9.9693e-01, -7.8254e-02, -7.2557e+00],\n",
       "        [ 9.2834e-01,  3.7172e-01,  3.2046e-01],\n",
       "        [ 9.9626e-01, -8.6453e-02, -1.5866e-01],\n",
       "        [ 3.0756e-01,  9.5153e-01, -5.9578e+00],\n",
       "        [-8.7151e-01,  4.9038e-01, -8.0000e+00],\n",
       "        [-3.0029e-01,  9.5385e-01, -7.6904e+00],\n",
       "        [ 1.1459e-01, -9.9341e-01,  7.2067e+00],\n",
       "        [-9.8174e-01, -1.9022e-01, -7.3212e+00],\n",
       "        [ 2.2804e-01,  9.7365e-01,  1.6336e+00],\n",
       "        [ 9.9783e-01,  6.5817e-02,  1.6540e-01],\n",
       "        [ 8.5006e-01,  5.2669e-01,  6.0687e-01],\n",
       "        [ 5.9739e-02,  9.9821e-01,  2.2825e-02],\n",
       "        [ 9.4614e-01,  3.2377e-01,  3.0701e-01],\n",
       "        [ 9.9881e-01, -4.8794e-02, -2.5111e-01],\n",
       "        [ 4.9496e-01, -8.6892e-01, -2.0237e+00],\n",
       "        [ 3.8476e-01,  9.2302e-01,  2.3984e+00],\n",
       "        [-8.0076e-01, -5.9898e-01,  3.7271e-01],\n",
       "        [ 9.0630e-01, -4.2263e-01, -7.1363e-02],\n",
       "        [ 8.5093e-01, -5.2528e-01,  3.6032e+00],\n",
       "        [ 9.9615e-01,  8.7683e-02,  2.7104e-01],\n",
       "        [ 9.9137e-01,  1.3108e-01,  2.5002e-01],\n",
       "        [ 9.9967e-01, -2.5764e-02, -2.8227e-01],\n",
       "        [ 9.9852e-01,  5.4357e-02, -1.0702e-01],\n",
       "        [ 9.9748e-01,  7.0946e-02, -2.8608e-03],\n",
       "        [ 9.1305e-01, -4.0785e-01,  2.5381e+00],\n",
       "        [ 9.9930e-01,  3.7495e-02, -1.9021e-01],\n",
       "        [ 6.6235e-01,  7.4920e-01,  1.4632e+00],\n",
       "        [-9.8526e-01,  1.7109e-01,  7.3456e+00],\n",
       "        [ 9.5082e-01,  3.0973e-01,  3.2599e-01],\n",
       "        [ 9.9417e-01, -1.0779e-01, -1.0008e-01],\n",
       "        [ 9.5579e-01, -2.9405e-01,  6.7047e-02],\n",
       "        [ 9.9914e-01,  4.1555e-02,  3.0830e-01],\n",
       "        [-8.4318e-01, -5.3764e-01,  7.1243e-01],\n",
       "        [ 9.3459e-01, -3.5572e-01, -5.3741e-01],\n",
       "        [ 9.7619e-01,  2.1690e-01,  3.6928e-01],\n",
       "        [ 9.9209e-01,  1.2552e-01,  1.3757e-01],\n",
       "        [ 3.0575e-01,  9.5211e-01, -2.8322e+00],\n",
       "        [ 9.9939e-01,  3.4825e-02, -1.2509e-01],\n",
       "        [ 5.9560e-01, -8.0328e-01,  5.2652e+00],\n",
       "        [ 4.4893e-01, -8.9357e-01, -2.1649e+00],\n",
       "        [ 9.7633e-01,  2.1630e-01,  3.0924e-01],\n",
       "        [ 9.9752e-01, -7.0440e-02, -2.0834e-01],\n",
       "        [ 8.6565e-01,  5.0065e-01,  5.3851e-01],\n",
       "        [ 9.9985e-01, -1.7532e-02,  1.1969e-01],\n",
       "        [ 6.2212e-02, -9.9806e-01,  7.2842e+00],\n",
       "        [ 1.9769e-01, -9.8026e-01, -2.8977e+00],\n",
       "        [ 9.9991e-01, -1.3129e-02, -1.8328e-01],\n",
       "        [ 9.9644e-01, -8.4347e-02,  1.4038e-01],\n",
       "        [ 9.8570e-01,  1.6849e-01,  3.6457e-01],\n",
       "        [-6.4508e-01,  7.6412e-01, -7.9659e+00],\n",
       "        [ 9.9696e-01, -7.7935e-02,  5.1312e-02],\n",
       "        [-5.9361e-01,  8.0475e-01, -7.9223e+00],\n",
       "        [ 7.9340e-01, -6.0870e-01,  4.1860e+00],\n",
       "        [ 9.6759e-01, -2.5252e-01,  6.8329e-02],\n",
       "        [-2.7486e-01, -9.6148e-01,  7.6586e+00],\n",
       "        [ 9.6159e-01,  2.7448e-01,  1.0416e-01],\n",
       "        [ 9.9999e-01, -4.9473e-03, -1.3091e-01],\n",
       "        [ 9.8338e-01,  1.8154e-01,  2.0126e-01],\n",
       "        [ 9.7009e-01, -2.4276e-01, -4.5838e-01],\n",
       "        [ 8.8081e-01,  4.7346e-01,  4.2648e-01],\n",
       "        [ 1.8958e-01,  9.8187e-01,  2.2107e-01],\n",
       "        [ 9.9894e-01, -4.6095e-02,  1.3129e-01],\n",
       "        [ 9.7366e-01, -2.2801e-01, -1.8290e-01],\n",
       "        [ 9.9984e-01, -1.7639e-02, -8.0450e-02],\n",
       "        [ 7.4755e-01,  6.6420e-01,  1.0868e+00],\n",
       "        [ 9.9779e-01,  6.6393e-02,  7.4198e-02],\n",
       "        [ 9.3710e-01, -3.4905e-01, -6.2748e-02],\n",
       "        [ 9.9632e-01,  8.5762e-02, -6.7458e-02],\n",
       "        [ 9.9997e-01,  7.8513e-03,  1.8387e-01],\n",
       "        [ 9.9796e-01, -6.3853e-02, -1.8342e-01],\n",
       "        [ 9.8997e-01,  1.4127e-01,  1.5170e-01],\n",
       "        [ 9.4541e-01, -3.2588e-01, -4.9417e-01]])"
      ]
     },
     "execution_count": 105,
     "metadata": {},
     "output_type": "execute_result"
    }
   ],
   "source": [
    "state"
   ]
  },
  {
   "cell_type": "code",
   "execution_count": 115,
   "metadata": {},
   "outputs": [
    {
     "data": {
      "text/plain": [
       "13542.1875"
      ]
     },
     "execution_count": 115,
     "metadata": {},
     "output_type": "execute_result"
    }
   ],
   "source": [
    "\n",
    "\n",
    "# To compute the targets in each step, do not use the on-trajectory action, \n",
    "# but compute a new action according to the policy\n",
    "network_input_state = torch.cat((state, action.T),1)\n",
    "\n",
    "network_input_next_state = torch.cat((next_state, torch.Tensor([action_next_state]).T),1)\n",
    "with torch.no_grad():\n",
    "    # network_input_next_state or network_input_state\n",
    "    q_next = network(network_input_next_state) # should not be differentiated \n",
    "\n",
    "q_state.append([q_next]) # no grad??\n",
    "\n",
    "target_state = reward + GAMMA * q_next # the last update in each episode should use q = 0 ?\n",
    "#targets.append(target_state)\n",
    "\n",
    "q = network(network_input_state)\n",
    "#q_state.append(q)\n",
    "\n",
    "\n",
    "\n",
    "q_optimizer.zero_grad()\n",
    "q_loss = MSE(target_state, q)\n",
    "q_loss.backward()\n",
    "q_optimizer.step()\n",
    "q_loss.item()"
   ]
  },
  {
   "cell_type": "code",
   "execution_count": 19,
   "metadata": {},
   "outputs": [],
   "source": [
    "def onestepTD(state_batch, action_batch, reward_batch, next_state_batch, trunc_batch, agent, gamma, network, iter):\n",
    "\n",
    "    targets = []\n",
    "    q_state = []\n",
    "    loss = 0\n",
    "\n",
    "    state = torch.FloatTensor(state_batch).to(device)\n",
    "    action = torch.FloatTensor([action_batch]).to(device)\n",
    "    reward = torch.FloatTensor(reward_batch).unsqueeze(1).to(device) #.unsqueeze(1)\n",
    "    trunc = torch.Tensor([np.float32(trunc_batch)]).unsqueeze(1).to(device)\n",
    "    next_state = torch.FloatTensor(next_state_batch).to(device)\n",
    "    \n",
    "    action_next_state = agent.compute_action(state = next_state.T) # np\n",
    "\n",
    "    # To compute the targets in each step, do not use the on-trajectory action, \n",
    "    # but compute a new action according to the policy\n",
    "    network_input_state = torch.cat((state, action.T),1)\n",
    "\n",
    "    network_input_next_state = torch.cat((next_state, torch.Tensor([action_next_state]).T),1)\n",
    "    with torch.no_grad():\n",
    "        # network_input_next_state or network_input_state\n",
    "        q_next = network(network_input_next_state) # should not be differentiated \n",
    "\n",
    "    q_state.append([q_next]) # no grad??\n",
    "    if iter == MAX_IT:\n",
    "        q_next = 0\n",
    "    target_state = reward + gamma * q_next # the last update in each episode should use q = 0 ?\n",
    "    targets.append(target_state)\n",
    "\n",
    "    q = network(network_input_state)\n",
    "    #q_state.append(q)\n",
    "\n",
    "    q_optimizer.zero_grad()\n",
    "    q_loss = MSE(target_state, q)\n",
    "    q_loss.backward()\n",
    "    q_optimizer.step()\n",
    "\n",
    "    return q_loss\n",
    "\n",
    "\n",
    "    # for i in range(BATCH_SIZE):\n",
    "\n",
    "        \n",
    "\n",
    "    #     action_next_state = agent.compute_action(state = next_state) # np\n",
    "\n",
    "    #     # To compute the targets in each step, do not use the on-trajectory action, \n",
    "    #     # but compute a new action according to the policy\n",
    "    #     network_input_state = torch.cat((state, action))\n",
    "\n",
    "    #     network_input_next_state = torch.cat((next_state, torch.Tensor([action_next_state])))\n",
    "    #     with torch.no_grad():\n",
    "    #         # network_input_next_state or network_input_state\n",
    "    #         q_next = network(network_input_next_state) # should not be differentiated \n",
    "\n",
    "    #     q_state.append([q_next]) # no grad??\n",
    "\n",
    "    #     target_state = reward + gamma * q_next # the last update in each episode should use q = 0 ?\n",
    "    #     targets.append(target_state)\n",
    "\n",
    "    #     q = network(network_input_state)\n",
    "    #     q_state.append(q)\n",
    "\n",
    "    #     loss += MSE(target_state, q)\n",
    "\n",
    "    "
   ]
  },
  {
   "cell_type": "code",
   "execution_count": 20,
   "metadata": {},
   "outputs": [],
   "source": [
    "plot_reward = []\n",
    "plot_policy = []\n",
    "plot_q = []\n",
    "plot_steps = []\n",
    "\n",
    "\n",
    "best_reward = -np.inf\n",
    "saved_reward = -np.inf\n",
    "saved_ep = 0\n",
    "average_reward = 0\n",
    "global_step = 0\n",
    "nr_of_samples = 128\n",
    "buffer_start = 200\n"
   ]
  },
  {
   "cell_type": "code",
   "execution_count": 21,
   "metadata": {},
   "outputs": [
    {
     "data": {
      "text/plain": [
       "0"
      ]
     },
     "execution_count": 21,
     "metadata": {},
     "output_type": "execute_result"
    }
   ],
   "source": [
    "memory.count() "
   ]
  },
  {
   "cell_type": "code",
   "execution_count": null,
   "metadata": {},
   "outputs": [],
   "source": [
    "q_losses = []\n",
    "for episode in tqdm(range(NUM_EPISODES)):\n",
    "    current_state = deepcopy(pendulum.reset()[0])\n",
    "\n",
    "    ep_reward = 0.\n",
    "    ep_q_value = 0.\n",
    "    step = 0\n",
    "\n",
    "    # collect experience\n",
    "    for i in range(MAX_IT):\n",
    "        # how many iterations??\n",
    "        action = heuristic_agent.compute_action(state = current_state)\n",
    "        transformed_action = pendulum.action(action)\n",
    "        next_state, reward, term, trunc, info = pendulum.step(transformed_action)\n",
    "\n",
    "        memory.add_transition(state = current_state, action = action, reward = reward, next_state = next_state, trunc = trunc)\n",
    "\n",
    "        \n",
    "        # TODO: buffer_start = ??\n",
    "        if memory.count() > buffer_start:\n",
    "            # sample a batch of transitions from the replay buffer\n",
    "            # TODO: sample random from 0 to 200??\n",
    "            #indices = np.random.randint(0, 200, nr_of_samples)\n",
    "            state_batch, action_batch, reward_batch, next_state_batch, trunc_batch = memory.sample_transition(nr_of_samples)\n",
    "\n",
    "            # 1-step TD-learning rule\n",
    "            #TODO: the last update in each episode should use q = 0 !!\n",
    "            q_loss = onestepTD(state_batch, action_batch, reward_batch, next_state_batch, trunc_batch, heuristic_agent, GAMMA, network, i)\n",
    "                       \n",
    "        \n",
    "        current_state = deepcopy(next_state)\n",
    "        ep_reward += reward\n",
    "    # plot_q.append([loss, episode])\n",
    "    try:\n",
    "        plot_reward.append([ep_reward, episode+1])\n",
    "        plot_q.append([q_loss.data, episode+1])\n",
    "        q_losses.append(q_loss.item())\n",
    "\n",
    "        if (episode % 100 == 0):\n",
    "            print(q_loss.item())\n",
    "    except:\n",
    "        continue\n"
   ]
  },
  {
   "cell_type": "code",
   "execution_count": null,
   "metadata": {},
   "outputs": [],
   "source": [
    "from matplotlib import pyplot as plt\n",
    "from IPython.display import clear_output\n",
    "%matplotlib inline\n",
    "\n",
    "def subplot(R, P, Q, S):\n",
    "    r = list(zip(*R))\n",
    "    p = list(zip(*P))\n",
    "    q = list(zip(*Q))\n",
    "    s = list(zip(*S))\n",
    "    clear_output(wait=True)\n",
    "    \n",
    "    fig, ax = plt.subplots(nrows=2, ncols=2, figsize=(15,15))\n",
    "\n",
    "    ax[0, 0].plot(list(r[1]), list(r[0]), 'r') #row=0, col=0\n",
    "    ax[1, 0].plot(list(p[1]), list(p[0]), 'b') #row=1, col=0\n",
    "    ax[0, 1].plot(list(q[1]), list(q[0]), 'g') #row=0, col=1\n",
    "    ax[1, 1].plot(list(s[1]), list(s[0]), 'k') #row=1, col=1\n",
    "    ax[0, 0].title.set_text('Reward')\n",
    "    ax[1, 0].title.set_text('Policy loss')\n",
    "    ax[0, 1].title.set_text('Q loss')\n",
    "    ax[1, 1].title.set_text('Max steps')\n",
    "    plt.show()"
   ]
  },
  {
   "cell_type": "code",
   "execution_count": 23,
   "metadata": {},
   "outputs": [
    {
     "data": {
      "text/plain": [
       "Text(0.5, 1.0, 'Q loss')"
      ]
     },
     "execution_count": 23,
     "metadata": {},
     "output_type": "execute_result"
    },
    {
     "data": {
      "image/png": "[encoded data removed]",
      "text/plain": [
       "<Figure size 640x480 with 1 Axes>"
      ]
     },
     "metadata": {},
     "output_type": "display_data"
    }
   ],
   "source": [
    "q = list(zip(*plot_q))\n",
    "plt.plot(list(q[1]), list(q[0]), 'g') #row=0, col=1\n",
    "plt.title('Q loss')"
   ]
  },
  {
   "cell_type": "code",
   "execution_count": 31,
   "metadata": {},
   "outputs": [
    {
     "data": {
      "text/plain": [
       "[<matplotlib.lines.Line2D at 0x1355b2d3010>]"
      ]
     },
     "execution_count": 31,
     "metadata": {},
     "output_type": "execute_result"
    },
    {
     "data": {
      "image/png": "[encoded data removed]",
      "text/plain": [
       "<Figure size 640x480 with 1 Axes>"
      ]
     },
     "metadata": {},
     "output_type": "display_data"
    }
   ],
   "source": [
    "plt.plot(plot_reward)"
   ]
  },
  {
   "cell_type": "code",
   "execution_count": 29,
   "metadata": {},
   "outputs": [
    {
     "ename": "IndexError",
     "evalue": "list index out of range",
     "output_type": "error",
     "traceback": [
      "\u001b[1;31m---------------------------------------------------------------------------\u001b[0m",
      "\u001b[1;31mIndexError\u001b[0m                                Traceback (most recent call last)",
      "Cell \u001b[1;32mIn[29], line 2\u001b[0m\n\u001b[0;32m      1\u001b[0m r \u001b[39m=\u001b[39m \u001b[39mlist\u001b[39m(\u001b[39mzip\u001b[39m(\u001b[39m*\u001b[39mplot_reward))\n\u001b[1;32m----> 2\u001b[0m plt\u001b[39m.\u001b[39mplot(\u001b[39mlist\u001b[39m(r[\u001b[39m1\u001b[39;49m]), \u001b[39mlist\u001b[39m(r[\u001b[39m0\u001b[39m]), \u001b[39m'\u001b[39m\u001b[39mr\u001b[39m\u001b[39m'\u001b[39m) \u001b[39m#row=0, col=1\u001b[39;00m\n\u001b[0;32m      3\u001b[0m plt\u001b[39m.\u001b[39mtitle(\u001b[39m'\u001b[39m\u001b[39mReward\u001b[39m\u001b[39m'\u001b[39m)\n",
      "\u001b[1;31mIndexError\u001b[0m: list index out of range"
     ]
    }
   ],
   "source": [
    "r = list(zip(*plot_reward))\n",
    "plt.plot(list(r[1]), list(r[0]), 'r') #row=0, col=1\n",
    "plt.title('Reward')"
   ]
  },
  {
   "cell_type": "code",
   "execution_count": 12,
   "metadata": {},
   "outputs": [
    {
     "ename": "NameError",
     "evalue": "name 'current_state' is not defined",
     "output_type": "error",
     "traceback": [
      "\u001b[1;31m---------------------------------------------------------------------------\u001b[0m",
      "\u001b[1;31mNameError\u001b[0m                                 Traceback (most recent call last)",
      "Cell \u001b[1;32mIn[12], line 3\u001b[0m\n\u001b[0;32m      1\u001b[0m i \u001b[39m=\u001b[39m \u001b[39m0\u001b[39m\n\u001b[0;32m      2\u001b[0m \u001b[39mwhile\u001b[39;00m i \u001b[39m<\u001b[39m MAX_IT:\n\u001b[1;32m----> 3\u001b[0m     action \u001b[39m=\u001b[39m heuristic_agent\u001b[39m.\u001b[39mcompute_action(state \u001b[39m=\u001b[39m current_state)\n\u001b[0;32m      4\u001b[0m     transformed_action \u001b[39m=\u001b[39m pendulum\u001b[39m.\u001b[39maction(action)\n\u001b[0;32m      5\u001b[0m     next_state, reward, term, trunc, info \u001b[39m=\u001b[39m pendulum\u001b[39m.\u001b[39mstep(transformed_action)\n",
      "\u001b[1;31mNameError\u001b[0m: name 'current_state' is not defined"
     ]
    }
   ],
   "source": [
    "i = 0\n",
    "while i < MAX_IT:\n",
    "    action = heuristic_agent.compute_action(state = current_state)\n",
    "    transformed_action = pendulum.action(action)\n",
    "    next_state, reward, term, trunc, info = pendulum.step(transformed_action)\n",
    "\n",
    "    memory.add_transition(state = current_state, action = action, reward = reward, next_state = next_state, trunc = trunc)\n",
    "\n",
    "    current_state = deepcopy(next_state)\n",
    "    ep_reward += reward\n",
    "    i += 1"
   ]
  },
  {
   "cell_type": "code",
   "execution_count": 152,
   "metadata": {},
   "outputs": [],
   "source": []
  },
  {
   "cell_type": "code",
   "execution_count": 38,
   "metadata": {},
   "outputs": [
    {
     "data": {
      "text/plain": [
       "[(array([0.97788984, 0.20912069, 0.18009238], dtype=float32),\n",
       "  -1.0,\n",
       "  -0.051627571543737774,\n",
       "  array([0.9775334 , 0.2107805 , 0.03395293], dtype=float32),\n",
       "  False),\n",
       " (array([ 0.95440036,  0.2985296 , -2.3184805 ], dtype=float32),\n",
       "  1.0,\n",
       "  -0.6334360689743704,\n",
       "  array([ 0.9773568 ,  0.21159807, -1.7988373 ], dtype=float32),\n",
       "  False)]"
      ]
     },
     "execution_count": 38,
     "metadata": {},
     "output_type": "execute_result"
    }
   ],
   "source": []
  },
  {
   "cell_type": "code",
   "execution_count": null,
   "metadata": {},
   "outputs": [],
   "source": []
  }
 ],
 "metadata": {
  "kernelspec": {
   "display_name": "ann",
   "language": "python",
   "name": "python3"
  },
  "language_info": {
   "codemirror_mode": {
    "name": "ipython",
    "version": 3
   },
   "file_extension": ".py",
   "mimetype": "text/x-python",
   "name": "python",
   "nbconvert_exporter": "python",
   "pygments_lexer": "ipython3",
   "version": "3.11.3"
  },
  "orig_nbformat": 4
 },
 "nbformat": 4,
 "nbformat_minor": 2
}
