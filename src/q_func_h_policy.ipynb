{
 "cells": [
  {
   "cell_type": "code",
   "execution_count": 53,
   "metadata": {},
   "outputs": [
    {
     "name": "stdout",
     "output_type": "stream",
     "text": [
      "The autoreload extension is already loaded. To reload it, use:\n",
      "  %reload_ext autoreload\n"
     ]
    }
   ],
   "source": [
    "%load_ext autoreload\n",
    "%autoreload 2\n",
    "\n",
    "from helpers import NormalizedEnv\n",
    "from helpers import RandomAgent\n",
    "import gym as gym\n",
    "import numpy as np\n",
    "import matplotlib.pyplot as plt\n",
    "import torch\n",
    "import torch.optim as optim\n",
    "import torch.nn as nn\n",
    "\n",
    "from copy import deepcopy\n",
    "from tqdm import tqdm\n",
    "import importlib\n",
    "from helpers import NormalizedEnv\n",
    "\n",
    "from heuristicpolicy import HeuristicPendulumAgent\n",
    "from qnetwork import QNetwork\n",
    "from replaybuffer import ReplayBuffer"
   ]
  },
  {
   "cell_type": "code",
   "execution_count": 54,
   "metadata": {},
   "outputs": [],
   "source": [
    "#Creating pendulum object\n",
    "pendulum = gym.make('Pendulum-v1', g=9.81)\n",
    "#Wrapping pendulum to map output space to [-1,1]\n",
    "pendulum = NormalizedEnv(pendulum)\n",
    "\n",
    "#Create random agent\n",
    "Random_Agent = RandomAgent(pendulum)"
   ]
  },
  {
   "cell_type": "code",
   "execution_count": 55,
   "metadata": {},
   "outputs": [
    {
     "name": "stdout",
     "output_type": "stream",
     "text": [
      "Job will run on cpu\n"
     ]
    }
   ],
   "source": [
    "#set GPU for faster training\n",
    "cuda = torch.cuda.is_available() #check for CUDA\n",
    "device   = torch.device(\"cuda\" if cuda else \"cpu\")\n",
    "print(\"Job will run on {}\".format(device))"
   ]
  },
  {
   "cell_type": "code",
   "execution_count": 56,
   "metadata": {},
   "outputs": [],
   "source": [
    "MAX_IT = 200\n",
    "BUFFER_SIZE = 1e4\n",
    "\n",
    "BATCH_SIZE = 128\n",
    "LEARNING_RATE = 1e-4\n",
    "NUM_EPISODES = 1000\n",
    "GAMMA = 0.99"
   ]
  },
  {
   "cell_type": "code",
   "execution_count": 57,
   "metadata": {},
   "outputs": [],
   "source": [
    "torch.manual_seed(-1)\n",
    "\n",
    "heuristic_agent = HeuristicPendulumAgent(pendulum)\n",
    "network  = QNetwork().to(device) # critic\n",
    "memory = ReplayBuffer(max_size=BUFFER_SIZE)\n",
    "q_optimizer  = optim.Adam(network.parameters(),  lr=LEARNING_RATE)\n",
    "\n",
    "MSE = nn.MSELoss()"
   ]
  },
  {
   "cell_type": "code",
   "execution_count": 58,
   "metadata": {},
   "outputs": [],
   "source": [
    "def onestepTD(state_batch, action_batch, reward_batch, next_state_batch, trunc_batch, agent, gamma, network, iter):\n",
    "\n",
    "    state = torch.FloatTensor(state_batch).to(device)\n",
    "    action = torch.FloatTensor(action_batch).unsqueeze(1).to(device)\n",
    "    reward = torch.FloatTensor(np.array(reward_batch)).unsqueeze(1).to(device) #.unsqueeze(1)\n",
    "    trunc = torch.Tensor(np.float32(trunc_batch)).unsqueeze(1).to(device)\n",
    "    next_state= torch.FloatTensor(next_state_batch).to(device)\n",
    "    \n",
    "    action_next_state = agent.compute_action(state = next_state.T) \n",
    "\n",
    "    # To compute the targets in each step, do not use the on-trajectory action, \n",
    "    # but compute a new action according to the policy\n",
    "    \n",
    "    with torch.no_grad():\n",
    "        network_input_state = torch.cat((state, action),1)\n",
    "        network_input_next_state = torch.cat((next_state, torch.Tensor(action_next_state).unsqueeze(1)),1)\n",
    "        q_next = network(network_input_next_state) # should not be differentiated \n",
    "\n",
    "    if iter == MAX_IT:\n",
    "        q_next = 0\n",
    "    target_state = reward + gamma * q_next \n",
    "\n",
    "    q = network(network_input_state)\n",
    "\n",
    "    q_optimizer.zero_grad()\n",
    "    q_loss = MSE(target_state, q)\n",
    "    q_loss.backward()\n",
    "    q_optimizer.step()\n",
    "\n",
    "    return q_loss\n",
    "    "
   ]
  },
  {
   "cell_type": "code",
   "execution_count": 59,
   "metadata": {},
   "outputs": [],
   "source": [
    "plot_reward = []\n",
    "plot_policy = []\n",
    "plot_q = []\n",
    "plot_steps = []\n",
    "\n",
    "\n",
    "best_reward = -np.inf\n",
    "saved_reward = -np.inf\n",
    "saved_ep = 0\n",
    "average_reward = 0\n",
    "global_step = 0\n",
    "nr_of_samples = 128\n"
   ]
  },
  {
   "cell_type": "code",
   "execution_count": 60,
   "metadata": {},
   "outputs": [
    {
     "name": "stderr",
     "output_type": "stream",
     "text": [
      "  0%|          | 0/1000 [00:00<?, ?it/s]c:\\Users\\User\\anaconda3\\envs\\ann\\Lib\\site-packages\\gym\\utils\\passive_env_checker.py:233: DeprecationWarning: `np.bool8` is a deprecated alias for `np.bool_`.  (Deprecated NumPy 1.24)\n",
      "  if not isinstance(terminated, (bool, np.bool8)):\n",
      "  0%|          | 1/1000 [00:01<31:42,  1.90s/it]"
     ]
    },
    {
     "name": "stdout",
     "output_type": "stream",
     "text": [
      "26.872705459594727\n"
     ]
    },
    {
     "name": "stderr",
     "output_type": "stream",
     "text": [
      " 10%|█         | 101/1000 [08:05<1:08:45,  4.59s/it]"
     ]
    },
    {
     "name": "stdout",
     "output_type": "stream",
     "text": [
      "26.209388732910156\n"
     ]
    },
    {
     "name": "stderr",
     "output_type": "stream",
     "text": [
      " 15%|█▌        | 153/1000 [15:19<1:24:51,  6.01s/it] \n"
     ]
    },
    {
     "ename": "KeyboardInterrupt",
     "evalue": "",
     "output_type": "error",
     "traceback": [
      "\u001b[1;31m---------------------------------------------------------------------------\u001b[0m",
      "\u001b[1;31mKeyboardInterrupt\u001b[0m                         Traceback (most recent call last)",
      "Cell \u001b[1;32mIn[60], line 22\u001b[0m\n\u001b[0;32m     19\u001b[0m     state_batch, action_batch, reward_batch, next_state_batch, trunc_batch \u001b[39m=\u001b[39m memory\u001b[39m.\u001b[39msample_transition(nr_of_samples)\n\u001b[0;32m     21\u001b[0m     \u001b[39m# 1-step TD-learning rule\u001b[39;00m\n\u001b[1;32m---> 22\u001b[0m     q_loss \u001b[39m=\u001b[39m onestepTD(state_batch, action_batch, reward_batch, next_state_batch, trunc_batch, heuristic_agent, GAMMA, network, i)\n\u001b[0;32m     25\u001b[0m current_state \u001b[39m=\u001b[39m deepcopy(next_state)\n\u001b[0;32m     26\u001b[0m ep_reward \u001b[39m+\u001b[39m\u001b[39m=\u001b[39m reward\n",
      "Cell \u001b[1;32mIn[58], line 9\u001b[0m, in \u001b[0;36monestepTD\u001b[1;34m(state_batch, action_batch, reward_batch, next_state_batch, trunc_batch, agent, gamma, network, iter)\u001b[0m\n\u001b[0;32m      6\u001b[0m trunc \u001b[39m=\u001b[39m torch\u001b[39m.\u001b[39mTensor(np\u001b[39m.\u001b[39mfloat32(trunc_batch))\u001b[39m.\u001b[39munsqueeze(\u001b[39m1\u001b[39m)\u001b[39m.\u001b[39mto(device)\n\u001b[0;32m      7\u001b[0m next_state\u001b[39m=\u001b[39m torch\u001b[39m.\u001b[39mFloatTensor(next_state_batch)\u001b[39m.\u001b[39mto(device)\n\u001b[1;32m----> 9\u001b[0m action_next_state \u001b[39m=\u001b[39m agent\u001b[39m.\u001b[39;49mcompute_action(state \u001b[39m=\u001b[39;49m next_state\u001b[39m.\u001b[39;49mT) \n\u001b[0;32m     11\u001b[0m \u001b[39m# To compute the targets in each step, do not use the on-trajectory action, \u001b[39;00m\n\u001b[0;32m     12\u001b[0m \u001b[39m# but compute a new action according to the policy\u001b[39;00m\n\u001b[0;32m     14\u001b[0m \u001b[39mwith\u001b[39;00m torch\u001b[39m.\u001b[39mno_grad():\n",
      "File \u001b[1;32mc:\\Anna\\CSE\\semester4\\ANN\\MProject\\DDPG\\src\\heuristicpolicy.py:18\u001b[0m, in \u001b[0;36mHeuristicPendulumAgent.compute_action\u001b[1;34m(self, state)\u001b[0m\n\u001b[0;32m     16\u001b[0m       action[i] \u001b[39m=\u001b[39m np\u001b[39m.\u001b[39msign(theta[i])\u001b[39m*\u001b[39m\u001b[39mself\u001b[39m\u001b[39m.\u001b[39mfixed_torque\n\u001b[0;32m     17\u001b[0m     \u001b[39melse\u001b[39;00m:\n\u001b[1;32m---> 18\u001b[0m       action[i] \u001b[39m=\u001b[39m \u001b[39m-\u001b[39mnp\u001b[39m.\u001b[39msign(theta[i])\u001b[39m*\u001b[39m\u001b[39mself\u001b[39m\u001b[39m.\u001b[39mfixed_torque\n\u001b[0;32m     19\u001b[0m \u001b[39melse\u001b[39;00m:\n\u001b[0;32m     20\u001b[0m   \u001b[39mif\u001b[39;00m x \u001b[39m<\u001b[39m \u001b[39m0\u001b[39m:\n",
      "\u001b[1;31mKeyboardInterrupt\u001b[0m: "
     ]
    }
   ],
   "source": [
    "for episode in tqdm(range(NUM_EPISODES)):\n",
    "    current_state = deepcopy(pendulum.reset()[0])\n",
    "\n",
    "    ep_reward = 0.\n",
    "    ep_q_value = 0.\n",
    "    step = 0\n",
    "\n",
    "    # collect experience\n",
    "    for i in range(MAX_IT):\n",
    "        # how many iterations??\n",
    "        action = heuristic_agent.compute_action(state = current_state)\n",
    "        transformed_action = pendulum.action(action)\n",
    "        next_state, reward, term, trunc, info = pendulum.step(transformed_action)\n",
    "\n",
    "        memory.add_transition(state = current_state, action = action, reward = reward, next_state = next_state, trunc = trunc)\n",
    "\n",
    "        if memory.count() > nr_of_samples:\n",
    "            # sample a batch of transitions from the replay buffer\n",
    "            state_batch, action_batch, reward_batch, next_state_batch, trunc_batch = memory.sample_transition(nr_of_samples)\n",
    "\n",
    "            # 1-step TD-learning rule\n",
    "            q_loss = onestepTD(state_batch, action_batch, reward_batch, next_state_batch, trunc_batch, heuristic_agent, GAMMA, network, i)\n",
    "                       \n",
    "        \n",
    "        current_state = deepcopy(next_state)\n",
    "        ep_reward += reward\n",
    "    try:\n",
    "        plot_reward.append([ep_reward, episode+1])\n",
    "        plot_q.append([q_loss.data, episode+1])\n",
    "\n",
    "        if (episode % 100 == 0):\n",
    "            print(q_loss.item())\n",
    "    except:\n",
    "        continue\n"
   ]
  },
  {
   "cell_type": "code",
   "execution_count": 61,
   "metadata": {},
   "outputs": [
    {
     "data": {
      "text/plain": [
       "Text(0.5, 1.0, 'Q loss')"
      ]
     },
     "execution_count": 61,
     "metadata": {},
     "output_type": "execute_result"
    },
    {
     "data": {
      "image/png": "[encoded data removed]",
      "text/plain": [
       "<Figure size 640x480 with 1 Axes>"
      ]
     },
     "metadata": {},
     "output_type": "display_data"
    }
   ],
   "source": [
    "q = list(zip(*plot_q))\n",
    "plt.plot(list(q[1]), list(q[0]), 'g') #row=0, col=1\n",
    "plt.title('Q loss')"
   ]
  },
  {
   "cell_type": "code",
   "execution_count": null,
   "metadata": {},
   "outputs": [],
   "source": []
  }
 ],
 "metadata": {
  "kernelspec": {
   "display_name": "ann",
   "language": "python",
   "name": "python3"
  },
  "language_info": {
   "codemirror_mode": {
    "name": "ipython",
    "version": 3
   },
   "file_extension": ".py",
   "mimetype": "text/x-python",
   "name": "python",
   "nbconvert_exporter": "python",
   "pygments_lexer": "ipython3",
   "version": "3.11.3"
  },
  "orig_nbformat": 4
 },
 "nbformat": 4,
 "nbformat_minor": 2
}
